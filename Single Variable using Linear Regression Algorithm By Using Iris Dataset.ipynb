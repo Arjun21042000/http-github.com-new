{
 "cells": [
  {
   "cell_type": "code",
   "execution_count": 1,
   "id": "e10e0741",
   "metadata": {},
   "outputs": [],
   "source": [
    "import seaborn as sns"
   ]
  },
  {
   "cell_type": "code",
   "execution_count": 2,
   "id": "3b06c33b",
   "metadata": {},
   "outputs": [],
   "source": [
    "iris=sns.load_dataset('iris')"
   ]
  },
  {
   "cell_type": "code",
   "execution_count": 3,
   "id": "d550c407",
   "metadata": {},
   "outputs": [
    {
     "data": {
      "text/html": [
       "<div>\n",
       "<style scoped>\n",
       "    .dataframe tbody tr th:only-of-type {\n",
       "        vertical-align: middle;\n",
       "    }\n",
       "\n",
       "    .dataframe tbody tr th {\n",
       "        vertical-align: top;\n",
       "    }\n",
       "\n",
       "    .dataframe thead th {\n",
       "        text-align: right;\n",
       "    }\n",
       "</style>\n",
       "<table border=\"1\" class=\"dataframe\">\n",
       "  <thead>\n",
       "    <tr style=\"text-align: right;\">\n",
       "      <th></th>\n",
       "      <th>sepal_length</th>\n",
       "      <th>sepal_width</th>\n",
       "      <th>petal_length</th>\n",
       "      <th>petal_width</th>\n",
       "      <th>species</th>\n",
       "    </tr>\n",
       "  </thead>\n",
       "  <tbody>\n",
       "    <tr>\n",
       "      <th>0</th>\n",
       "      <td>5.1</td>\n",
       "      <td>3.5</td>\n",
       "      <td>1.4</td>\n",
       "      <td>0.2</td>\n",
       "      <td>setosa</td>\n",
       "    </tr>\n",
       "    <tr>\n",
       "      <th>1</th>\n",
       "      <td>4.9</td>\n",
       "      <td>3.0</td>\n",
       "      <td>1.4</td>\n",
       "      <td>0.2</td>\n",
       "      <td>setosa</td>\n",
       "    </tr>\n",
       "    <tr>\n",
       "      <th>2</th>\n",
       "      <td>4.7</td>\n",
       "      <td>3.2</td>\n",
       "      <td>1.3</td>\n",
       "      <td>0.2</td>\n",
       "      <td>setosa</td>\n",
       "    </tr>\n",
       "    <tr>\n",
       "      <th>3</th>\n",
       "      <td>4.6</td>\n",
       "      <td>3.1</td>\n",
       "      <td>1.5</td>\n",
       "      <td>0.2</td>\n",
       "      <td>setosa</td>\n",
       "    </tr>\n",
       "    <tr>\n",
       "      <th>4</th>\n",
       "      <td>5.0</td>\n",
       "      <td>3.6</td>\n",
       "      <td>1.4</td>\n",
       "      <td>0.2</td>\n",
       "      <td>setosa</td>\n",
       "    </tr>\n",
       "    <tr>\n",
       "      <th>...</th>\n",
       "      <td>...</td>\n",
       "      <td>...</td>\n",
       "      <td>...</td>\n",
       "      <td>...</td>\n",
       "      <td>...</td>\n",
       "    </tr>\n",
       "    <tr>\n",
       "      <th>145</th>\n",
       "      <td>6.7</td>\n",
       "      <td>3.0</td>\n",
       "      <td>5.2</td>\n",
       "      <td>2.3</td>\n",
       "      <td>virginica</td>\n",
       "    </tr>\n",
       "    <tr>\n",
       "      <th>146</th>\n",
       "      <td>6.3</td>\n",
       "      <td>2.5</td>\n",
       "      <td>5.0</td>\n",
       "      <td>1.9</td>\n",
       "      <td>virginica</td>\n",
       "    </tr>\n",
       "    <tr>\n",
       "      <th>147</th>\n",
       "      <td>6.5</td>\n",
       "      <td>3.0</td>\n",
       "      <td>5.2</td>\n",
       "      <td>2.0</td>\n",
       "      <td>virginica</td>\n",
       "    </tr>\n",
       "    <tr>\n",
       "      <th>148</th>\n",
       "      <td>6.2</td>\n",
       "      <td>3.4</td>\n",
       "      <td>5.4</td>\n",
       "      <td>2.3</td>\n",
       "      <td>virginica</td>\n",
       "    </tr>\n",
       "    <tr>\n",
       "      <th>149</th>\n",
       "      <td>5.9</td>\n",
       "      <td>3.0</td>\n",
       "      <td>5.1</td>\n",
       "      <td>1.8</td>\n",
       "      <td>virginica</td>\n",
       "    </tr>\n",
       "  </tbody>\n",
       "</table>\n",
       "<p>150 rows × 5 columns</p>\n",
       "</div>"
      ],
      "text/plain": [
       "     sepal_length  sepal_width  petal_length  petal_width    species\n",
       "0             5.1          3.5           1.4          0.2     setosa\n",
       "1             4.9          3.0           1.4          0.2     setosa\n",
       "2             4.7          3.2           1.3          0.2     setosa\n",
       "3             4.6          3.1           1.5          0.2     setosa\n",
       "4             5.0          3.6           1.4          0.2     setosa\n",
       "..            ...          ...           ...          ...        ...\n",
       "145           6.7          3.0           5.2          2.3  virginica\n",
       "146           6.3          2.5           5.0          1.9  virginica\n",
       "147           6.5          3.0           5.2          2.0  virginica\n",
       "148           6.2          3.4           5.4          2.3  virginica\n",
       "149           5.9          3.0           5.1          1.8  virginica\n",
       "\n",
       "[150 rows x 5 columns]"
      ]
     },
     "execution_count": 3,
     "metadata": {},
     "output_type": "execute_result"
    }
   ],
   "source": [
    "iris"
   ]
  },
  {
   "cell_type": "code",
   "execution_count": 5,
   "id": "617fd558",
   "metadata": {},
   "outputs": [],
   "source": [
    "iris= iris[['petal_length','petal_width']]"
   ]
  },
  {
   "cell_type": "code",
   "execution_count": 7,
   "id": "3c696774",
   "metadata": {},
   "outputs": [
    {
     "data": {
      "text/html": [
       "<div>\n",
       "<style scoped>\n",
       "    .dataframe tbody tr th:only-of-type {\n",
       "        vertical-align: middle;\n",
       "    }\n",
       "\n",
       "    .dataframe tbody tr th {\n",
       "        vertical-align: top;\n",
       "    }\n",
       "\n",
       "    .dataframe thead th {\n",
       "        text-align: right;\n",
       "    }\n",
       "</style>\n",
       "<table border=\"1\" class=\"dataframe\">\n",
       "  <thead>\n",
       "    <tr style=\"text-align: right;\">\n",
       "      <th></th>\n",
       "      <th>petal_length</th>\n",
       "      <th>petal_width</th>\n",
       "    </tr>\n",
       "  </thead>\n",
       "  <tbody>\n",
       "    <tr>\n",
       "      <th>0</th>\n",
       "      <td>1.4</td>\n",
       "      <td>0.2</td>\n",
       "    </tr>\n",
       "    <tr>\n",
       "      <th>1</th>\n",
       "      <td>1.4</td>\n",
       "      <td>0.2</td>\n",
       "    </tr>\n",
       "    <tr>\n",
       "      <th>2</th>\n",
       "      <td>1.3</td>\n",
       "      <td>0.2</td>\n",
       "    </tr>\n",
       "    <tr>\n",
       "      <th>3</th>\n",
       "      <td>1.5</td>\n",
       "      <td>0.2</td>\n",
       "    </tr>\n",
       "    <tr>\n",
       "      <th>4</th>\n",
       "      <td>1.4</td>\n",
       "      <td>0.2</td>\n",
       "    </tr>\n",
       "    <tr>\n",
       "      <th>...</th>\n",
       "      <td>...</td>\n",
       "      <td>...</td>\n",
       "    </tr>\n",
       "    <tr>\n",
       "      <th>145</th>\n",
       "      <td>5.2</td>\n",
       "      <td>2.3</td>\n",
       "    </tr>\n",
       "    <tr>\n",
       "      <th>146</th>\n",
       "      <td>5.0</td>\n",
       "      <td>1.9</td>\n",
       "    </tr>\n",
       "    <tr>\n",
       "      <th>147</th>\n",
       "      <td>5.2</td>\n",
       "      <td>2.0</td>\n",
       "    </tr>\n",
       "    <tr>\n",
       "      <th>148</th>\n",
       "      <td>5.4</td>\n",
       "      <td>2.3</td>\n",
       "    </tr>\n",
       "    <tr>\n",
       "      <th>149</th>\n",
       "      <td>5.1</td>\n",
       "      <td>1.8</td>\n",
       "    </tr>\n",
       "  </tbody>\n",
       "</table>\n",
       "<p>150 rows × 2 columns</p>\n",
       "</div>"
      ],
      "text/plain": [
       "     petal_length  petal_width\n",
       "0             1.4          0.2\n",
       "1             1.4          0.2\n",
       "2             1.3          0.2\n",
       "3             1.5          0.2\n",
       "4             1.4          0.2\n",
       "..            ...          ...\n",
       "145           5.2          2.3\n",
       "146           5.0          1.9\n",
       "147           5.2          2.0\n",
       "148           5.4          2.3\n",
       "149           5.1          1.8\n",
       "\n",
       "[150 rows x 2 columns]"
      ]
     },
     "execution_count": 7,
     "metadata": {},
     "output_type": "execute_result"
    }
   ],
   "source": [
    "iris"
   ]
  },
  {
   "cell_type": "code",
   "execution_count": 8,
   "id": "fe1781b5",
   "metadata": {},
   "outputs": [],
   "source": [
    "x=iris['petal_length']\n",
    "y=iris['petal_width']"
   ]
  },
  {
   "cell_type": "code",
   "execution_count": 9,
   "id": "5fe2a95c",
   "metadata": {},
   "outputs": [
    {
     "data": {
      "text/plain": [
       "Text(0, 0.5, 'petal_width')"
      ]
     },
     "execution_count": 9,
     "metadata": {},
     "output_type": "execute_result"
    },
    {
     "data": {
      "image/png": "[encoded data removed]",
      "text/plain": [
       "<Figure size 640x480 with 1 Axes>"
      ]
     },
     "metadata": {},
     "output_type": "display_data"
    }
   ],
   "source": [
    "import matplotlib.pyplot as plt\n",
    "plt.scatter(x,y)\n",
    "plt.xlabel('petal_length')\n",
    "plt.ylabel('petal_width')"
   ]
  },
  {
   "cell_type": "code",
   "execution_count": 59,
   "id": "341f45d3",
   "metadata": {},
   "outputs": [],
   "source": [
    "from sklearn.model_selection import train_test_split\n",
    "\n",
    "x_train, x_test, y_train, y_test = train_test_split(x, y, test_size=0.5, random_state=25)\n"
   ]
  },
  {
   "cell_type": "code",
   "execution_count": 60,
   "id": "9cefe003",
   "metadata": {},
   "outputs": [
    {
     "data": {
      "text/plain": [
       "44     1.9\n",
       "105    6.6\n",
       "67     4.1\n",
       "142    5.1\n",
       "96     4.2\n",
       "      ... \n",
       "118    6.9\n",
       "61     4.2\n",
       "143    5.9\n",
       "62     4.0\n",
       "132    5.6\n",
       "Name: petal_length, Length: 75, dtype: float64"
      ]
     },
     "execution_count": 60,
     "metadata": {},
     "output_type": "execute_result"
    }
   ],
   "source": [
    "x_train"
   ]
  },
  {
   "cell_type": "code",
   "execution_count": 61,
   "id": "f6c7e5a2",
   "metadata": {},
   "outputs": [
    {
     "data": {
      "text/plain": [
       "array([[1.9],\n",
       "       [6.6],\n",
       "       [4.1],\n",
       "       [5.1],\n",
       "       [4.2],\n",
       "       [5.5],\n",
       "       [1.1],\n",
       "       [1.6],\n",
       "       [4. ],\n",
       "       [1.6],\n",
       "       [1.5],\n",
       "       [4.8],\n",
       "       [4.9],\n",
       "       [1.5],\n",
       "       [5.4],\n",
       "       [4. ],\n",
       "       [4.3],\n",
       "       [4.5],\n",
       "       [6.1],\n",
       "       [4.4],\n",
       "       [1.4],\n",
       "       [6. ],\n",
       "       [1.2],\n",
       "       [1.4],\n",
       "       [4.3],\n",
       "       [5.1],\n",
       "       [5.5],\n",
       "       [5. ],\n",
       "       [4.4],\n",
       "       [1.6],\n",
       "       [5.3],\n",
       "       [1.6],\n",
       "       [1. ],\n",
       "       [4.7],\n",
       "       [3.3],\n",
       "       [1.7],\n",
       "       [1.3],\n",
       "       [1.3],\n",
       "       [5.5],\n",
       "       [6.3],\n",
       "       [5.8],\n",
       "       [5.1],\n",
       "       [1.6],\n",
       "       [3. ],\n",
       "       [5.1],\n",
       "       [4. ],\n",
       "       [1.7],\n",
       "       [1.4],\n",
       "       [4.6],\n",
       "       [4.7],\n",
       "       [5.6],\n",
       "       [4.5],\n",
       "       [5.2],\n",
       "       [3.5],\n",
       "       [1.3],\n",
       "       [4.7],\n",
       "       [6.1],\n",
       "       [1.4],\n",
       "       [1.5],\n",
       "       [1.4],\n",
       "       [6.4],\n",
       "       [1.4],\n",
       "       [4.5],\n",
       "       [5.6],\n",
       "       [4.1],\n",
       "       [1.5],\n",
       "       [5.8],\n",
       "       [4. ],\n",
       "       [5.1],\n",
       "       [5.6],\n",
       "       [6.9],\n",
       "       [4.2],\n",
       "       [5.9],\n",
       "       [4. ],\n",
       "       [5.6]])"
      ]
     },
     "execution_count": 61,
     "metadata": {},
     "output_type": "execute_result"
    }
   ],
   "source": [
    "import numpy as np\n",
    "x_train=np.array(x_train).reshape(-1,1)\n",
    "x_train"
   ]
  },
  {
   "cell_type": "code",
   "execution_count": 62,
   "id": "2967dae3",
   "metadata": {},
   "outputs": [
    {
     "data": {
      "text/plain": [
       "array([[1.4],\n",
       "       [4.9],\n",
       "       [4.8],\n",
       "       [4.5],\n",
       "       [5.6],\n",
       "       [4.4],\n",
       "       [4.9],\n",
       "       [1.3],\n",
       "       [3.7],\n",
       "       [3.3],\n",
       "       [1.5],\n",
       "       [1.5],\n",
       "       [1.6],\n",
       "       [5.1],\n",
       "       [1.4],\n",
       "       [4.6],\n",
       "       [6. ],\n",
       "       [5.4],\n",
       "       [3.6],\n",
       "       [4.2],\n",
       "       [3.5],\n",
       "       [4.1],\n",
       "       [4.5],\n",
       "       [1.7],\n",
       "       [1.5],\n",
       "       [6.7],\n",
       "       [3.9],\n",
       "       [6.7],\n",
       "       [5.7],\n",
       "       [1.3],\n",
       "       [4.6],\n",
       "       [5. ],\n",
       "       [6.1],\n",
       "       [1.4],\n",
       "       [5.3],\n",
       "       [4.9],\n",
       "       [4.5],\n",
       "       [1.3],\n",
       "       [1.7],\n",
       "       [1.2],\n",
       "       [1.3],\n",
       "       [1.4],\n",
       "       [1.4],\n",
       "       [1.6],\n",
       "       [4.8],\n",
       "       [1.5],\n",
       "       [1.4],\n",
       "       [4.5],\n",
       "       [1.5],\n",
       "       [4.9],\n",
       "       [5.9],\n",
       "       [1.5],\n",
       "       [1.4],\n",
       "       [5.6],\n",
       "       [3.9],\n",
       "       [5.1],\n",
       "       [5.2],\n",
       "       [4.5],\n",
       "       [5.7],\n",
       "       [4.2],\n",
       "       [4.8],\n",
       "       [5.8],\n",
       "       [3.8],\n",
       "       [1.5],\n",
       "       [5. ],\n",
       "       [4.7],\n",
       "       [5.1],\n",
       "       [1.5],\n",
       "       [3.9],\n",
       "       [5. ],\n",
       "       [1.5],\n",
       "       [1.9],\n",
       "       [5.7],\n",
       "       [4.7],\n",
       "       [4.4]])"
      ]
     },
     "execution_count": 62,
     "metadata": {},
     "output_type": "execute_result"
    }
   ],
   "source": [
    "x_test=np.array(x_test).reshape(-1,1)\n",
    "x_test"
   ]
  },
  {
   "cell_type": "code",
   "execution_count": 63,
   "id": "ea5a4bf4",
   "metadata": {},
   "outputs": [],
   "source": [
    "from sklearn.linear_model import LinearRegression\n",
    "\n",
    "lr = LinearRegression()\n"
   ]
  },
  {
   "cell_type": "code",
   "execution_count": 64,
   "id": "f95e2538",
   "metadata": {},
   "outputs": [
    {
     "data": {
      "text/html": [
       "<style>#sk-container-id-3 {color: black;}#sk-container-id-3 pre{padding: 0;}#sk-container-id-3 div.sk-toggleable {background-color: white;}#sk-container-id-3 label.sk-toggleable__label {cursor: pointer;display: block;width: 100%;margin-bottom: 0;padding: 0.3em;box-sizing: border-box;text-align: center;}#sk-container-id-3 label.sk-toggleable__label-arrow:before {content: \"▸\";float: left;margin-right: 0.25em;color: #696969;}#sk-container-id-3 label.sk-toggleable__label-arrow:hover:before {color: black;}#sk-container-id-3 div.sk-estimator:hover label.sk-toggleable__label-arrow:before {color: black;}#sk-container-id-3 div.sk-toggleable__content {max-height: 0;max-width: 0;overflow: hidden;text-align: left;background-color: #f0f8ff;}#sk-container-id-3 div.sk-toggleable__content pre {margin: 0.2em;color: black;border-radius: 0.25em;background-color: #f0f8ff;}#sk-container-id-3 input.sk-toggleable__control:checked~div.sk-toggleable__content {max-height: 200px;max-width: 100%;overflow: auto;}#sk-container-id-3 input.sk-toggleable__control:checked~label.sk-toggleable__label-arrow:before {content: \"▾\";}#sk-container-id-3 div.sk-estimator input.sk-toggleable__control:checked~label.sk-toggleable__label {background-color: #d4ebff;}#sk-container-id-3 div.sk-label input.sk-toggleable__control:checked~label.sk-toggleable__label {background-color: #d4ebff;}#sk-container-id-3 input.sk-hidden--visually {border: 0;clip: rect(1px 1px 1px 1px);clip: rect(1px, 1px, 1px, 1px);height: 1px;margin: -1px;overflow: hidden;padding: 0;position: absolute;width: 1px;}#sk-container-id-3 div.sk-estimator {font-family: monospace;background-color: #f0f8ff;border: 1px dotted black;border-radius: 0.25em;box-sizing: border-box;margin-bottom: 0.5em;}#sk-container-id-3 div.sk-estimator:hover {background-color: #d4ebff;}#sk-container-id-3 div.sk-parallel-item::after {content: \"\";width: 100%;border-bottom: 1px solid gray;flex-grow: 1;}#sk-container-id-3 div.sk-label:hover label.sk-toggleable__label {background-color: #d4ebff;}#sk-container-id-3 div.sk-serial::before {content: \"\";position: absolute;border-left: 1px solid gray;box-sizing: border-box;top: 0;bottom: 0;left: 50%;z-index: 0;}#sk-container-id-3 div.sk-serial {display: flex;flex-direction: column;align-items: center;background-color: white;padding-right: 0.2em;padding-left: 0.2em;position: relative;}#sk-container-id-3 div.sk-item {position: relative;z-index: 1;}#sk-container-id-3 div.sk-parallel {display: flex;align-items: stretch;justify-content: center;background-color: white;position: relative;}#sk-container-id-3 div.sk-item::before, #sk-container-id-3 div.sk-parallel-item::before {content: \"\";position: absolute;border-left: 1px solid gray;box-sizing: border-box;top: 0;bottom: 0;left: 50%;z-index: -1;}#sk-container-id-3 div.sk-parallel-item {display: flex;flex-direction: column;z-index: 1;position: relative;background-color: white;}#sk-container-id-3 div.sk-parallel-item:first-child::after {align-self: flex-end;width: 50%;}#sk-container-id-3 div.sk-parallel-item:last-child::after {align-self: flex-start;width: 50%;}#sk-container-id-3 div.sk-parallel-item:only-child::after {width: 0;}#sk-container-id-3 div.sk-dashed-wrapped {border: 1px dashed gray;margin: 0 0.4em 0.5em 0.4em;box-sizing: border-box;padding-bottom: 0.4em;background-color: white;}#sk-container-id-3 div.sk-label label {font-family: monospace;font-weight: bold;display: inline-block;line-height: 1.2em;}#sk-container-id-3 div.sk-label-container {text-align: center;}#sk-container-id-3 div.sk-container {/* jupyter's `normalize.less` sets `[hidden] { display: none; }` but bootstrap.min.css set `[hidden] { display: none !important; }` so we also need the `!important` here to be able to override the default hidden behavior on the sphinx rendered scikit-learn.org. See: https://github.com/scikit-learn/scikit-learn/issues/21755 */display: inline-block !important;position: relative;}#sk-container-id-3 div.sk-text-repr-fallback {display: none;}</style><div id=\"sk-container-id-3\" class=\"sk-top-container\"><div class=\"sk-text-repr-fallback\"><pre>LinearRegression()</pre><b>In a Jupyter environment, please rerun this cell to show the HTML representation or trust the notebook. <br />On GitHub, the HTML representation is unable to render, please try loading this page with nbviewer.org.</b></div><div class=\"sk-container\" hidden><div class=\"sk-item\"><div class=\"sk-estimator sk-toggleable\"><input class=\"sk-toggleable__control sk-hidden--visually\" id=\"sk-estimator-id-3\" type=\"checkbox\" checked><label for=\"sk-estimator-id-3\" class=\"sk-toggleable__label sk-toggleable__label-arrow\">LinearRegression</label><div class=\"sk-toggleable__content\"><pre>LinearRegression()</pre></div></div></div></div></div>"
      ],
      "text/plain": [
       "LinearRegression()"
      ]
     },
     "execution_count": 64,
     "metadata": {},
     "output_type": "execute_result"
    }
   ],
   "source": [
    "lr.fit(x_train,y_train)"
   ]
  },
  {
   "cell_type": "code",
   "execution_count": 65,
   "id": "12453f89",
   "metadata": {},
   "outputs": [
    {
     "data": {
      "text/plain": [
       "-0.3539460433620354"
      ]
     },
     "execution_count": 65,
     "metadata": {},
     "output_type": "execute_result"
    }
   ],
   "source": [
    "c=lr.intercept_\n",
    "c"
   ]
  },
  {
   "cell_type": "code",
   "execution_count": 66,
   "id": "f5b71609",
   "metadata": {},
   "outputs": [
    {
     "data": {
      "text/plain": [
       "array([0.41051408])"
      ]
     },
     "execution_count": 66,
     "metadata": {},
     "output_type": "execute_result"
    }
   ],
   "source": [
    "m=lr.coef_\n",
    "m"
   ]
  },
  {
   "cell_type": "code",
   "execution_count": 67,
   "id": "6f587381",
   "metadata": {},
   "outputs": [
    {
     "data": {
      "text/plain": [
       "array([0.42603072, 2.35544691, 1.3291617 , 1.73967578, 1.37021311,\n",
       "       1.90388142, 0.09761945, 0.30287649, 1.28811029, 0.30287649,\n",
       "       0.26182508, 1.61652156, 1.65757297, 0.26182508, 1.86283001,\n",
       "       1.28811029, 1.41126452, 1.49336733, 2.15018987, 1.45231592,\n",
       "       0.22077367, 2.10913846, 0.13867086, 0.22077367, 1.41126452,\n",
       "       1.73967578, 1.90388142, 1.69862437, 1.45231592, 0.30287649,\n",
       "       1.8217786 , 0.30287649, 0.05656804, 1.57547015, 1.00075043,\n",
       "       0.3439279 , 0.17972227, 0.17972227, 1.90388142, 2.23229268,\n",
       "       2.02703564, 1.73967578, 0.30287649, 0.87759621, 1.73967578,\n",
       "       1.28811029, 0.3439279 , 0.22077367, 1.53441874, 1.57547015,\n",
       "       1.94493282, 1.49336733, 1.78072719, 1.08285325, 0.17972227,\n",
       "       1.57547015, 2.15018987, 0.22077367, 0.26182508, 0.22077367,\n",
       "       2.27334409, 0.22077367, 1.49336733, 1.94493282, 1.3291617 ,\n",
       "       0.26182508, 2.02703564, 1.28811029, 1.73967578, 1.94493282,\n",
       "       2.47860113, 1.37021311, 2.06808705, 1.28811029, 1.94493282])"
      ]
     },
     "execution_count": 67,
     "metadata": {},
     "output_type": "execute_result"
    }
   ],
   "source": [
    "y_pred_train=m*x_train+c\n",
    "y_pred_train.flatten()"
   ]
  },
  {
   "cell_type": "code",
   "execution_count": 68,
   "id": "5f1940a7",
   "metadata": {},
   "outputs": [
    {
     "data": {
      "text/plain": [
       "array([0.42603072, 2.35544691, 1.3291617 , 1.73967578, 1.37021311,\n",
       "       1.90388142, 0.09761945, 0.30287649, 1.28811029, 0.30287649,\n",
       "       0.26182508, 1.61652156, 1.65757297, 0.26182508, 1.86283001,\n",
       "       1.28811029, 1.41126452, 1.49336733, 2.15018987, 1.45231592,\n",
       "       0.22077367, 2.10913846, 0.13867086, 0.22077367, 1.41126452,\n",
       "       1.73967578, 1.90388142, 1.69862437, 1.45231592, 0.30287649,\n",
       "       1.8217786 , 0.30287649, 0.05656804, 1.57547015, 1.00075043,\n",
       "       0.3439279 , 0.17972227, 0.17972227, 1.90388142, 2.23229268,\n",
       "       2.02703564, 1.73967578, 0.30287649, 0.87759621, 1.73967578,\n",
       "       1.28811029, 0.3439279 , 0.22077367, 1.53441874, 1.57547015,\n",
       "       1.94493282, 1.49336733, 1.78072719, 1.08285325, 0.17972227,\n",
       "       1.57547015, 2.15018987, 0.22077367, 0.26182508, 0.22077367,\n",
       "       2.27334409, 0.22077367, 1.49336733, 1.94493282, 1.3291617 ,\n",
       "       0.26182508, 2.02703564, 1.28811029, 1.73967578, 1.94493282,\n",
       "       2.47860113, 1.37021311, 2.06808705, 1.28811029, 1.94493282])"
      ]
     },
     "execution_count": 68,
     "metadata": {},
     "output_type": "execute_result"
    }
   ],
   "source": [
    "y_pred_train1=lr.predict(x_train)\n",
    "y_pred_train1"
   ]
  },
  {
   "cell_type": "code",
   "execution_count": 69,
   "id": "2f4e91df",
   "metadata": {},
   "outputs": [
    {
     "data": {
      "text/plain": [
       "Text(0, 0.5, 'petal_width')"
      ]
     },
     "execution_count": 69,
     "metadata": {},
     "output_type": "execute_result"
    },
    {
     "data": {
      "image/png": "[encoded data removed]",
      "text/plain": [
       "<Figure size 640x480 with 1 Axes>"
      ]
     },
     "metadata": {},
     "output_type": "display_data"
    }
   ],
   "source": [
    "import matplotlib.pyplot as plt\n",
    "plt.scatter(x_train,y_train)\n",
    "plt.plot(x_train,y_pred_train1,color=\"green\")\n",
    "plt.xlabel('petal_length')\n",
    "plt.ylabel('petal_width')"
   ]
  },
  {
   "cell_type": "code",
   "execution_count": 70,
   "id": "10c0d8df",
   "metadata": {},
   "outputs": [
    {
     "data": {
      "text/plain": [
       "array([0.22077367, 1.65757297, 1.61652156, 1.49336733, 1.94493282,\n",
       "       1.45231592, 1.65757297, 0.17972227, 1.16495607, 1.00075043,\n",
       "       0.26182508, 0.26182508, 0.30287649, 1.73967578, 0.22077367,\n",
       "       1.53441874, 2.10913846, 1.86283001, 1.12390466, 1.37021311,\n",
       "       1.08285325, 1.3291617 , 1.49336733, 0.3439279 , 0.26182508,\n",
       "       2.39649832, 1.24705888, 2.39649832, 1.98598423, 0.17972227,\n",
       "       1.53441874, 1.69862437, 2.15018987, 0.22077367, 1.8217786 ,\n",
       "       1.65757297, 1.49336733, 0.17972227, 0.3439279 , 0.13867086,\n",
       "       0.17972227, 0.22077367, 0.22077367, 0.30287649, 1.61652156,\n",
       "       0.26182508, 0.22077367, 1.49336733, 0.26182508, 1.65757297,\n",
       "       2.06808705, 0.26182508, 0.22077367, 1.94493282, 1.24705888,\n",
       "       1.73967578, 1.78072719, 1.49336733, 1.98598423, 1.37021311,\n",
       "       1.61652156, 2.02703564, 1.20600747, 0.26182508, 1.69862437,\n",
       "       1.57547015, 1.73967578, 0.26182508, 1.24705888, 1.69862437,\n",
       "       0.26182508, 0.42603072, 1.98598423, 1.57547015, 1.45231592])"
      ]
     },
     "execution_count": 70,
     "metadata": {},
     "output_type": "execute_result"
    }
   ],
   "source": [
    "y_pred_test1=lr.predict(x_test)\n",
    "y_pred_test1"
   ]
  },
  {
   "cell_type": "code",
   "execution_count": 71,
   "id": "b045cb08",
   "metadata": {},
   "outputs": [
    {
     "data": {
      "text/plain": [
       "Text(0, 0.5, 'petal_width')"
      ]
     },
     "execution_count": 71,
     "metadata": {},
     "output_type": "execute_result"
    },
    {
     "data": {
      "image/png": "[encoded data removed]",
      "text/plain": [
       "<Figure size 640x480 with 1 Axes>"
      ]
     },
     "metadata": {},
     "output_type": "display_data"
    }
   ],
   "source": [
    "import matplotlib.pyplot as plt\n",
    "plt.scatter(x_test,y_test)\n",
    "plt.plot(x_test,y_pred_test1,color='blue')\n",
    "plt.xlabel('petal_length')\n",
    "plt.ylabel('petal_width')"
   ]
  },
  {
   "cell_type": "code",
   "execution_count": 72,
   "id": "da979088",
   "metadata": {},
   "outputs": [
    {
     "name": "stdout",
     "output_type": "stream",
     "text": [
      "R² score: 0.9310953757137892\n"
     ]
    }
   ],
   "source": [
    "accuracy = lr.score(x_test, y_test)\n",
    "print(\"R² score:\", accuracy)"
   ]
  },
  {
   "cell_type": "code",
   "execution_count": null,
   "id": "2b749c4d",
   "metadata": {},
   "outputs": [],
   "source": []
  }
 ],
 "metadata": {
  "kernelspec": {
   "display_name": "Python 3 (ipykernel)",
   "language": "python",
   "name": "python3"
  },
  "language_info": {
   "codemirror_mode": {
    "name": "ipython",
    "version": 3
   },
   "file_extension": ".py",
   "mimetype": "text/x-python",
   "name": "python",
   "nbconvert_exporter": "python",
   "pygments_lexer": "ipython3",
   "version": "3.11.5"
  }
 },
 "nbformat": 4,
 "nbformat_minor": 5
}
